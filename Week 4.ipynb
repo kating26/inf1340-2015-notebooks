{
 "cells": [
  {
   "cell_type": "markdown",
   "metadata": {},
   "source": [
    "# Overview\n",
    "\n",
    "* Hour 1\n",
    "  * Boolean Expressions\n",
    "  * Logical Operators\n",
    "  * Repetition Structures\n",
    "* Hour 2\n",
    "  * Repetition Structures continued\n",
    "* Hour 3\n",
    "  * Programming Exercise\n"
   ]
  },
  {
   "cell_type": "markdown",
   "metadata": {},
   "source": [
    "# Lab Exercise 1\n",
    "* The intention is to complete the lab during class\n",
    "* We made an exception for last week, since it was the first one.\n",
    "* Solution is now available on a another branch of the repository\n",
    "\n",
    "# Assignment 1\n",
    "* Take note of the announcement regarding FAQs on Blackboard\n",
    "* Test cases are now available in my repo\n",
    "  * Perform a fetch to add them to your fork\n",
    "\n",
    "# Lecture Notes\n",
    "* Now available on github `https://github.com/benevolentprof/inf1340-2015-notebooks`\n"
   ]
  },
  {
   "cell_type": "markdown",
   "metadata": {},
   "source": [
    "# Review\n",
    "\n",
    "## Booleans\n",
    "\n",
    "* Named after the mathematician George Boole.\n",
    "* Booleans can be `True` or `False`. (The capitalization is important.)\n",
    "\n",
    "## Boolean Expressions and Relational Operators\n",
    "\n",
    "![](images/relational_operators.png)"
   ]
  },
  {
   "cell_type": "code",
   "execution_count": null,
   "metadata": {
    "collapsed": true
   },
   "outputs": [],
   "source": [
    "x = 1\n",
    "y = 2\n",
    "y != x"
   ]
  },
  {
   "cell_type": "markdown",
   "metadata": {},
   "source": [
    "# Logical Operators\n",
    "\n",
    "* Allow you to connect multiple Boolean expressions into a compound expression\n",
    "* There are three that you need to know: `and`, `or`, and `not`\n",
    "\n",
    "# and\n",
    "* Both sub-expressions must be true for compound expression to be true\n",
    "\n",
    "![](images/and.png)\n"
   ]
  },
  {
   "cell_type": "code",
   "execution_count": null,
   "metadata": {
    "collapsed": true
   },
   "outputs": [],
   "source": [
    "if temperature < 20 and minutes > 12:\n",
    "    print(\"The temperature is in the danger zone.\")"
   ]
  },
  {
   "cell_type": "markdown",
   "metadata": {},
   "source": [
    "# or\n",
    "* One or both subexpressions must be true for the compound expression to be true\n",
    "\n",
    "![](images/or.png)\n"
   ]
  },
  {
   "cell_type": "code",
   "execution_count": null,
   "metadata": {
    "collapsed": true
   },
   "outputs": [],
   "source": [
    "if temperature < 20 or temperature > 100:\n",
    "    print(\"The temperature is too extreme.\")"
   ]
  },
  {
   "cell_type": "markdown",
   "metadata": {},
   "source": [
    "# Short Circuit Evaluation\n",
    "* Idea: Evaluate as little of the expression as necessary to determine truth value\n",
    "\n",
    "## and\n",
    "If the expression on the left hand side of the operator is false, stop evaluating.\n",
    "\n",
    "## or\n",
    "If the expression on the left hand side of the operator is true, stop evaluating."
   ]
  },
  {
   "cell_type": "markdown",
   "metadata": {},
   "source": [
    "# not\n",
    "* A unary operator, meaning that it takes only one expression\n",
    "* Reverses the truth value of expression\n",
    "\n",
    "![](images/not.png)"
   ]
  },
  {
   "cell_type": "code",
   "execution_count": null,
   "metadata": {
    "collapsed": true
   },
   "outputs": [],
   "source": [
    "if not(temperature > 100):\n",
    "    print(\"This is below the maximum temperature.\")"
   ]
  },
  {
   "cell_type": "markdown",
   "metadata": {},
   "source": [
    "# Let's try\n",
    "\n",
    "`x > y and a < b`\n",
    "\n",
    "`x == y or a == b`\n",
    "\n",
    "`not(x > y)`\n"
   ]
  },
  {
   "cell_type": "code",
   "execution_count": 1,
   "metadata": {
    "collapsed": false
   },
   "outputs": [
    {
     "data": {
      "text/plain": [
       "False"
      ]
     },
     "execution_count": 1,
     "metadata": {},
     "output_type": "execute_result"
    }
   ],
   "source": [
    "x = 5\n",
    "y = 6\n",
    "a = 1000\n",
    "b =  2000\n",
    "\n",
    "x > y and a < b\n"
   ]
  },
  {
   "cell_type": "markdown",
   "metadata": {},
   "source": [
    "# Checking Numerical Ranges\n",
    "\n",
    "* To check if a value is inside a range, best to use `and`\n",
    "  * `x >=20 and x <= 40`\n",
    "* To check if a value is outside a range, best to use `or`\n",
    "  * `x < 20 or x > 40`\n",
    " \n",
    "* Beware of boundaries\n",
    "  * Example: You must be 18 to vote.\n",
    "\n"
   ]
  },
  {
   "cell_type": "code",
   "execution_count": null,
   "metadata": {
    "collapsed": true
   },
   "outputs": [],
   "source": [
    "# Not correct\n",
    "if age > 18 :\n",
    "    print(\"You can vote\")\n",
    "\n",
    "# Correct\n",
    "if age >= 18 :\n",
    "    print(\"You can vote\")\n",
    "\n",
    "# Correct, but less desirable\n",
    "# Possibly incorrect if age is a float\n",
    "if age > 17 :\n",
    "    print(\"You can vote\")"
   ]
  },
  {
   "cell_type": "markdown",
   "metadata": {},
   "source": [
    "# Repetition Structures\n",
    "\n",
    "* Cause a statement or a set of statements to execute repeatedly\n",
    "* There are two kinds of repetition structures\n",
    "    * `while`, a Condition-Controlled Loop\n",
    "    * `for`, a Count-Controlled Loop \n",
    "\n",
    "\n",
    "* Recall the `vowel_or_consonant()` function from last class\n",
    "* In order to repeat, need to call function again and again"
   ]
  },
  {
   "cell_type": "code",
   "execution_count": 3,
   "metadata": {
    "collapsed": true
   },
   "outputs": [],
   "source": [
    "def vowel_or_consonant():\n",
    "    \"\"\"\n",
    "    Exercise: Vowel or Consonant\n",
    "    Reads a letter of the alphabet from the user. (You can assume that it's\n",
    "    lowercase.) If the user enters a, e, i, o or u then your program should\n",
    "    display \"vowel\". If the user enters y then your program should display\n",
    "    \"sometimes a vowel, sometimes a consonant\". Otherwise your program should\n",
    "    display a message indicating that the letter is a \"consonant\".\n",
    "    \"\"\"\n",
    "\n",
    "    vowels = list(\"aeiou\")\n",
    "\n",
    "    letter = raw_input(\"Input a letter of the alphabet: \")\n",
    "\n",
    "    if letter in vowels:\n",
    "        print(\"vowel\")\n",
    "    elif letter == \"y\":\n",
    "        print(\"sometimes a vowel, sometimes a consonant\")\n",
    "    else:\n",
    "        print(\"consonant\")\n"
   ]
  },
  {
   "cell_type": "code",
   "execution_count": 5,
   "metadata": {
    "collapsed": false
   },
   "outputs": [
    {
     "name": "stdout",
     "output_type": "stream",
     "text": [
      "Input a letter of the alphabet: a\n",
      "vowel\n",
      "Input a letter of the alphabet: b\n",
      "consonant\n"
     ]
    }
   ],
   "source": [
    "vowel_or_consonant()\n",
    "vowel_or_consonant()\n",
    "vowel_or_consonant()\n",
    "\n",
    "\n"
   ]
  },
  {
   "cell_type": "markdown",
   "metadata": {},
   "source": [
    "# while Loop\n",
    "\n",
    "* Controlled loop by a conditional statement\n",
    "* Runs a statement or set of statements repeats as long as a (while) condition is true.\n",
    "  * A pre-test loop\n",
    "* Two important parts: test and statements\n",
    "\n",
    "```while condition:\n",
    "    statement\n",
    "    statement\n",
    "```\n",
    "\n",
    "![](images/while.png)\n",
    "\n",
    "\n",
    "\n"
   ]
  },
  {
   "cell_type": "code",
   "execution_count": 7,
   "metadata": {
    "collapsed": false
   },
   "outputs": [
    {
     "name": "stdout",
     "output_type": "stream",
     "text": [
      "What did you say? fee\n",
      "fee\n",
      "Again? Enter yy\n",
      "What did you say? fi\n",
      "fi\n",
      "Again? Enter yy\n",
      "What did you say? fum\n",
      "fum\n",
      "Again? Enter yn\n"
     ]
    }
   ],
   "source": [
    "# Write a program that will echo back what the user types in\n",
    "\n",
    "# Inputs: string from user, choice on whether to continue\n",
    "# Processing: None\n",
    "# Output: print string from user\n",
    "\n",
    "# Create a variable to control the loop\n",
    "\n",
    "keep_going = \"y\"\n",
    "\n",
    "while keep_going == \"y\":\n",
    "    user_input = raw_input(\"What did you say? \")\n",
    "    print(user_input)\n",
    "    \n",
    "    keep_going = raw_input(\"Again? Enter y \")\n",
    "\n",
    "\n"
   ]
  },
  {
   "cell_type": "code",
   "execution_count": 9,
   "metadata": {
    "collapsed": false
   },
   "outputs": [
    {
     "name": "stdout",
     "output_type": "stream",
     "text": [
      "Again? Enter y y\n",
      "Again? Enter y afsdfsdfd\n"
     ]
    }
   ],
   "source": [
    "# Write a program that will echo back what the user types in\n",
    "\n",
    "# Inputs: string from user, choice on whether to continue\n",
    "# Processing: None\n",
    "# Output: print string from user\n",
    "\n",
    "# Create a variable to control the loop\n",
    "\n",
    "keep_going = \"y\"\n",
    "\n",
    "while keep_going == \"y\":\n",
    "    \n",
    "    keep_going = raw_input(\"Again? Enter y \")\n",
    "\n",
    "\n"
   ]
  },
  {
   "cell_type": "markdown",
   "metadata": {},
   "source": [
    "# Infinite Loops\n",
    "* Continue indefinitely\n",
    "* Generally undesirable\n",
    "* Can be avoided with while loops by making sure that test evaluates to false at some point\n"
   ]
  },
  {
   "cell_type": "code",
   "execution_count": null,
   "metadata": {
    "collapsed": false
   },
   "outputs": [],
   "source": [
    "# Don't do this\n",
    "# This is an infinite loop, because loop condition never changes\n",
    "while True:\n",
    "    print(\"One Infinite Loop\")"
   ]
  },
  {
   "cell_type": "markdown",
   "metadata": {},
   "source": [
    "# for Loop\n",
    "* Loop controlled by a count or list\n",
    "* Runs for a specified number of times\n",
    "* Three important parts: loop index (or target variable), loop range, and statements\n",
    "\n",
    "``` for variable in [value1, value2, ...]:\n",
    "    statement\n",
    "    statement\n",
    "```\n",
    "\n",
    "![](images/for.png)\n"
   ]
  },
  {
   "cell_type": "code",
   "execution_count": 10,
   "metadata": {
    "collapsed": false
   },
   "outputs": [
    {
     "name": "stdout",
     "output_type": "stream",
     "text": [
      "1\n",
      "2\n",
      "3\n",
      "4\n",
      "5\n"
     ]
    }
   ],
   "source": [
    "for number in [1, 2, 3, 4, 5]:\n",
    "    print(number)"
   ]
  },
  {
   "cell_type": "code",
   "execution_count": 11,
   "metadata": {
    "collapsed": false
   },
   "outputs": [
    {
     "name": "stdout",
     "output_type": "stream",
     "text": [
      "giraffe\n",
      "otter\n",
      "bears\n",
      "panda\n",
      "capybara\n",
      "elephant\n",
      "python\n"
     ]
    }
   ],
   "source": [
    "for animal in [\"giraffe\", \"otter\", \"bears\", \"panda\", \"capybara\", \"elephant\", \"python\"]:\n",
    "    print(animal)\n"
   ]
  },
  {
   "cell_type": "code",
   "execution_count": 12,
   "metadata": {
    "collapsed": false
   },
   "outputs": [
    {
     "name": "stdout",
     "output_type": "stream",
     "text": [
      "5\n",
      "string\n",
      "75.62\n"
     ]
    }
   ],
   "source": [
    "for element in [5, \"string\", 75.62]:\n",
    "    print(element)\n"
   ]
  },
  {
   "cell_type": "markdown",
   "metadata": {},
   "source": [
    "# Using the range function\n",
    "\n",
    "* `range()` creates an *iterable*\n",
    "* Simpler than writing out all the values"
   ]
  },
  {
   "cell_type": "code",
   "execution_count": 13,
   "metadata": {
    "collapsed": false
   },
   "outputs": [
    {
     "name": "stdout",
     "output_type": "stream",
     "text": [
      "1\n",
      "2\n",
      "3\n",
      "4\n",
      "5\n",
      "0\n",
      "1\n",
      "2\n",
      "3\n",
      "4\n"
     ]
    }
   ],
   "source": [
    "# These two loops are not the same!\n",
    "\n",
    "for number in [1, 2, 3, 4, 5]:\n",
    "    print(number)\n",
    "\n",
    "for number in range(5):\n",
    "    print(number)"
   ]
  },
  {
   "cell_type": "markdown",
   "metadata": {},
   "source": [
    "## Other uses of range\n"
   ]
  },
  {
   "cell_type": "code",
   "execution_count": 15,
   "metadata": {
    "collapsed": false
   },
   "outputs": [
    {
     "name": "stdout",
     "output_type": "stream",
     "text": [
      "1\n",
      "2\n",
      "3\n",
      "4\n",
      "5\n"
     ]
    }
   ],
   "source": [
    "for number in range(1, 6):\n",
    "    print(number)"
   ]
  },
  {
   "cell_type": "code",
   "execution_count": 18,
   "metadata": {
    "collapsed": false,
    "scrolled": true
   },
   "outputs": [
    {
     "name": "stdout",
     "output_type": "stream",
     "text": [
      "1\n",
      "8\n",
      "15\n",
      "22\n",
      "29\n",
      "36\n",
      "43\n"
     ]
    }
   ],
   "source": [
    "for number in range(1, 50, 7):\n",
    "    print(number)"
   ]
  },
  {
   "cell_type": "markdown",
   "metadata": {},
   "source": [
    "Can use a variable to control the number of times a for loop iterates"
   ]
  },
  {
   "cell_type": "code",
   "execution_count": null,
   "metadata": {
    "collapsed": false
   },
   "outputs": [],
   "source": [
    "iterations = raw_input(\"How many times? \")\n",
    "iterations = int(iterations)\n",
    "\n",
    "for count in range(iterations):\n",
    "    print(count)\n"
   ]
  },
  {
   "cell_type": "markdown",
   "metadata": {},
   "source": [
    "# Calculate a Running Total\n",
    "* A running total is a sum of numbers that accumulates with each iteration\n",
    "* The variable used to keep the running total is called an accumulator.\n"
   ]
  },
  {
   "cell_type": "code",
   "execution_count": 31,
   "metadata": {
    "collapsed": false
   },
   "outputs": [
    {
     "name": "stdout",
     "output_type": "stream",
     "text": [
      "How many times? 5\n",
      "15\n",
      "120\n"
     ]
    }
   ],
   "source": [
    "# This program calculates the sum of a series of \n",
    "# numbers entered by the user\n",
    "\n",
    "iterations = raw_input(\"How many times? \")\n",
    "iterations = int(iterations)\n",
    "\n",
    "sum = 0\n",
    "product = 1\n",
    "\n",
    "for count in range(1, iterations + 1):\n",
    "    sum += count\n",
    "    product *= count\n",
    "\n",
    "print(sum)\n",
    "print(product)"
   ]
  },
  {
   "cell_type": "markdown",
   "metadata": {},
   "source": [
    "# Augmented Assignment Operators\n",
    "\n",
    "* It is common have variables appear both on the left hand side and right hand side of an operator\n",
    "  * Example: `x = x + 1`\n",
    "  * Example: total = total + number\n",
    "  * Example: blanace = balance - withdrawal\n",
    "* This is so common that we have special statements for this\n",
    "\n",
    "![](images/augmented-assign.png)\n"
   ]
  },
  {
   "cell_type": "code",
   "execution_count": null,
   "metadata": {
    "collapsed": true
   },
   "outputs": [],
   "source": [
    "# Let's re-write the examples\n",
    "# Example: x = x + 1\n",
    "x = 5\n",
    "x += 1\n",
    "\n",
    "# Example: total = total + number\n",
    "total += number\n",
    "\n",
    "# Example: balance = balance - withdrawal\n",
    "balance -= withdrawal"
   ]
  },
  {
   "cell_type": "markdown",
   "metadata": {},
   "source": [
    "# Lab\n",
    "\n",
    "* Option 1. Work on an exercise.\n",
    "* Option 2. Work on your assignment.\n",
    "* Option 3. None of the above.\n",
    "\n",
    "# Exercise: Greatest Common Divisor\n",
    "\n",
    "The greatest common divisor of two positive integers, n and m, is the largest number, d, that divides evenly into both n and m. Here is one algorithm to solve this problem.\n",
    "\n",
    "``` Initialize d to the smaller of m and n\n",
    "    While d does not evening divide m or d does not evening divide n do\n",
    "        Decrease the value of d by 1\n",
    "    Report d as the greatest common divisor of n and m```\n",
    "\n",
    "Write a program that reads two positive integers from the user and uses this algorithm to determine and report their greatest common divisor.\n",
    "\n",
    "```Enter a positive integer: 5\n",
    "Enter a positive integer: 10\n",
    "The greatest common divisor of 5 and 10 is 5.\n",
    "```"
   ]
  },
  {
   "cell_type": "code",
   "execution_count": null,
   "metadata": {
    "collapsed": true
   },
   "outputs": [],
   "source": []
  }
 ],
 "metadata": {
  "kernelspec": {
   "display_name": "Python 2",
   "language": "python",
   "name": "python2"
  },
  "language_info": {
   "codemirror_mode": {
    "name": "ipython",
    "version": 2
   },
   "file_extension": ".py",
   "mimetype": "text/x-python",
   "name": "python",
   "nbconvert_exporter": "python",
   "pygments_lexer": "ipython2",
   "version": "2.7.10"
  }
 },
 "nbformat": 4,
 "nbformat_minor": 0
}
